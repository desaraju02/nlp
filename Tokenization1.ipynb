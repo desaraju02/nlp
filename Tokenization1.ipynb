{
  "nbformat": 4,
  "nbformat_minor": 0,
  "metadata": {
    "colab": {
      "provenance": [],
      "authorship_tag": "ABX9TyOC+C05DNbyfbzdC93ZAPtT",
      "include_colab_link": true
    },
    "kernelspec": {
      "name": "python3",
      "display_name": "Python 3"
    },
    "language_info": {
      "name": "python"
    }
  },
  "cells": [
    {
      "cell_type": "markdown",
      "metadata": {
        "id": "view-in-github",
        "colab_type": "text"
      },
      "source": [
        "<a href=\"https://colab.research.google.com/github/desaraju02/nlp/blob/main/Tokenization1.ipynb\" target=\"_parent\"><img src=\"https://colab.research.google.com/assets/colab-badge.svg\" alt=\"Open In Colab\"/></a>"
      ]
    },
    {
      "cell_type": "code",
      "execution_count": 1,
      "metadata": {
        "colab": {
          "base_uri": "https://localhost:8080/"
        },
        "id": "vRsL42FQfkfp",
        "outputId": "911cd2ec-5344-4452-ed37-685a92c027f4"
      },
      "outputs": [
        {
          "output_type": "stream",
          "name": "stdout",
          "text": [
            "Requirement already satisfied: nltk in /usr/local/lib/python3.11/dist-packages (3.9.1)\n",
            "Requirement already satisfied: click in /usr/local/lib/python3.11/dist-packages (from nltk) (8.2.1)\n",
            "Requirement already satisfied: joblib in /usr/local/lib/python3.11/dist-packages (from nltk) (1.5.1)\n",
            "Requirement already satisfied: regex>=2021.8.3 in /usr/local/lib/python3.11/dist-packages (from nltk) (2024.11.6)\n",
            "Requirement already satisfied: tqdm in /usr/local/lib/python3.11/dist-packages (from nltk) (4.67.1)\n"
          ]
        }
      ],
      "source": [
        "!pip install nltk"
      ]
    },
    {
      "cell_type": "code",
      "source": [
        "corpus = \"\"\"\n",
        "Welcome to NLP learning\n",
        "We have a lot of ground to cover\n",
        "Years of work\n",
        "Let's catch up in a few months\n",
        "\"\"\""
      ],
      "metadata": {
        "id": "v9EGd7ISfwT9"
      },
      "execution_count": 2,
      "outputs": []
    },
    {
      "cell_type": "code",
      "source": [
        "from nltk.tokenize import sent_tokenize"
      ],
      "metadata": {
        "id": "jL_HLNV8gCAG"
      },
      "execution_count": 3,
      "outputs": []
    },
    {
      "cell_type": "code",
      "metadata": {
        "colab": {
          "base_uri": "https://localhost:8080/"
        },
        "id": "54bf0e1f",
        "outputId": "baa763d1-dd69-4e21-cd10-51aced05e119"
      },
      "source": [
        "import nltk\n",
        "nltk.download('punkt_tab')"
      ],
      "execution_count": 5,
      "outputs": [
        {
          "output_type": "stream",
          "name": "stderr",
          "text": [
            "[nltk_data] Downloading package punkt_tab to /root/nltk_data...\n",
            "[nltk_data]   Unzipping tokenizers/punkt_tab.zip.\n"
          ]
        },
        {
          "output_type": "execute_result",
          "data": {
            "text/plain": [
              "True"
            ]
          },
          "metadata": {},
          "execution_count": 5
        }
      ]
    },
    {
      "cell_type": "code",
      "source": [
        "docs = sent_tokenize(corpus)"
      ],
      "metadata": {
        "id": "q96BJwSfgbYG"
      },
      "execution_count": 8,
      "outputs": []
    },
    {
      "cell_type": "code",
      "source": [
        "docs"
      ],
      "metadata": {
        "colab": {
          "base_uri": "https://localhost:8080/"
        },
        "id": "-C-O5qnTgslt",
        "outputId": "56e6f6dd-d146-448f-a9db-ca0db7ba96b6"
      },
      "execution_count": 9,
      "outputs": [
        {
          "output_type": "execute_result",
          "data": {
            "text/plain": [
              "[\"\\nWelcome to NLP learning\\nWe have a lot of ground to cover\\nYears of work\\nLet's catch up in a few months\"]"
            ]
          },
          "metadata": {},
          "execution_count": 9
        }
      ]
    },
    {
      "cell_type": "code",
      "source": [
        "type(docs)"
      ],
      "metadata": {
        "colab": {
          "base_uri": "https://localhost:8080/"
        },
        "id": "MM2rb6UngukM",
        "outputId": "9806df17-06ee-4399-f156-4491b6711a67"
      },
      "execution_count": 10,
      "outputs": [
        {
          "output_type": "execute_result",
          "data": {
            "text/plain": [
              "list"
            ]
          },
          "metadata": {},
          "execution_count": 10
        }
      ]
    },
    {
      "cell_type": "code",
      "source": [
        "from nltk.tokenize import word_tokenize"
      ],
      "metadata": {
        "id": "bIid2lCsgwlm"
      },
      "execution_count": 11,
      "outputs": []
    },
    {
      "cell_type": "code",
      "source": [
        "word_tokenize(corpus)"
      ],
      "metadata": {
        "colab": {
          "base_uri": "https://localhost:8080/"
        },
        "id": "PKDK7wPxgXRh",
        "outputId": "5d9f676c-e0bf-4f19-87ac-f61246c5458f"
      },
      "execution_count": 12,
      "outputs": [
        {
          "output_type": "execute_result",
          "data": {
            "text/plain": [
              "['Welcome',\n",
              " 'to',\n",
              " 'NLP',\n",
              " 'learning',\n",
              " 'We',\n",
              " 'have',\n",
              " 'a',\n",
              " 'lot',\n",
              " 'of',\n",
              " 'ground',\n",
              " 'to',\n",
              " 'cover',\n",
              " 'Years',\n",
              " 'of',\n",
              " 'work',\n",
              " 'Let',\n",
              " \"'s\",\n",
              " 'catch',\n",
              " 'up',\n",
              " 'in',\n",
              " 'a',\n",
              " 'few',\n",
              " 'months']"
            ]
          },
          "metadata": {},
          "execution_count": 12
        }
      ]
    },
    {
      "cell_type": "code",
      "source": [
        "for sentence in docs:\n",
        "  print(word_tokenize(sentence))"
      ],
      "metadata": {
        "colab": {
          "base_uri": "https://localhost:8080/"
        },
        "id": "GmEYoVIPhLMd",
        "outputId": "462a4b77-024f-43bb-82c2-6428070d92aa"
      },
      "execution_count": 13,
      "outputs": [
        {
          "output_type": "stream",
          "name": "stdout",
          "text": [
            "['Welcome', 'to', 'NLP', 'learning', 'We', 'have', 'a', 'lot', 'of', 'ground', 'to', 'cover', 'Years', 'of', 'work', 'Let', \"'s\", 'catch', 'up', 'in', 'a', 'few', 'months']\n"
          ]
        }
      ]
    },
    {
      "cell_type": "code",
      "source": [
        "from nltk import wordpunct_tokenize"
      ],
      "metadata": {
        "id": "PAzxih9ThR3Y"
      },
      "execution_count": 14,
      "outputs": []
    },
    {
      "cell_type": "code",
      "source": [
        "wordpunct_tokenize(corpus)"
      ],
      "metadata": {
        "colab": {
          "base_uri": "https://localhost:8080/"
        },
        "id": "1CNliddyhVl4",
        "outputId": "847ca941-dd7f-4661-cf1f-c463d351a25e"
      },
      "execution_count": 15,
      "outputs": [
        {
          "output_type": "execute_result",
          "data": {
            "text/plain": [
              "['Welcome',\n",
              " 'to',\n",
              " 'NLP',\n",
              " 'learning',\n",
              " 'We',\n",
              " 'have',\n",
              " 'a',\n",
              " 'lot',\n",
              " 'of',\n",
              " 'ground',\n",
              " 'to',\n",
              " 'cover',\n",
              " 'Years',\n",
              " 'of',\n",
              " 'work',\n",
              " 'Let',\n",
              " \"'\",\n",
              " 's',\n",
              " 'catch',\n",
              " 'up',\n",
              " 'in',\n",
              " 'a',\n",
              " 'few',\n",
              " 'months']"
            ]
          },
          "metadata": {},
          "execution_count": 15
        }
      ]
    },
    {
      "cell_type": "code",
      "source": [
        "from nltk.tokenize import TreebankWordTokenizer"
      ],
      "metadata": {
        "id": "LUVngmzYhbLS"
      },
      "execution_count": 16,
      "outputs": []
    },
    {
      "cell_type": "code",
      "source": [
        "token = TreebankWordTokenizer()\n",
        "token.tokenize(corpus)"
      ],
      "metadata": {
        "colab": {
          "base_uri": "https://localhost:8080/"
        },
        "id": "vz8H8Uaehie_",
        "outputId": "67368c9c-c0da-4ed4-947b-dc26c561bdbe"
      },
      "execution_count": 17,
      "outputs": [
        {
          "output_type": "execute_result",
          "data": {
            "text/plain": [
              "['Welcome',\n",
              " 'to',\n",
              " 'NLP',\n",
              " 'learning',\n",
              " 'We',\n",
              " 'have',\n",
              " 'a',\n",
              " 'lot',\n",
              " 'of',\n",
              " 'ground',\n",
              " 'to',\n",
              " 'cover',\n",
              " 'Years',\n",
              " 'of',\n",
              " 'work',\n",
              " 'Let',\n",
              " \"'s\",\n",
              " 'catch',\n",
              " 'up',\n",
              " 'in',\n",
              " 'a',\n",
              " 'few',\n",
              " 'months']"
            ]
          },
          "metadata": {},
          "execution_count": 17
        }
      ]
    },
    {
      "cell_type": "code",
      "source": [
        "words = ['eating','eat','eaten','going','gone','programming', 'programs','writing','writes','written', 'history', 'fairly','sportingly']"
      ],
      "metadata": {
        "id": "IG3znS_SjDO4"
      },
      "execution_count": 35,
      "outputs": []
    },
    {
      "cell_type": "markdown",
      "source": [
        "## Porter Stemmer"
      ],
      "metadata": {
        "id": "PQxNOZAnjQfp"
      }
    },
    {
      "cell_type": "code",
      "source": [
        "from nltk.stem import PorterStemmer"
      ],
      "metadata": {
        "id": "D7BP7ML9jSMO"
      },
      "execution_count": 19,
      "outputs": []
    },
    {
      "cell_type": "code",
      "source": [
        "ps = PorterStemmer()"
      ],
      "metadata": {
        "id": "dMJhAhsbjW4m"
      },
      "execution_count": 36,
      "outputs": []
    },
    {
      "cell_type": "code",
      "source": [
        "for word in words:\n",
        "  print(word+ \" ---> \"+ps.stem(word))"
      ],
      "metadata": {
        "colab": {
          "base_uri": "https://localhost:8080/"
        },
        "id": "M5tutwqWjZOX",
        "outputId": "ce4df373-71db-43c1-fcf0-40c984635eb6"
      },
      "execution_count": 37,
      "outputs": [
        {
          "output_type": "stream",
          "name": "stdout",
          "text": [
            "eating ---> eat\n",
            "eat ---> eat\n",
            "eaten ---> eaten\n",
            "going ---> go\n",
            "gone ---> gone\n",
            "programming ---> program\n",
            "programs ---> program\n",
            "writing ---> write\n",
            "writes ---> write\n",
            "written ---> written\n",
            "history ---> histori\n",
            "fairly ---> fairli\n",
            "sportingly ---> sportingli\n"
          ]
        }
      ]
    },
    {
      "cell_type": "markdown",
      "source": [
        "# Regexp Stemmer"
      ],
      "metadata": {
        "id": "0tEZ18Qgj6wB"
      }
    },
    {
      "cell_type": "code",
      "source": [
        "from nltk.stem import RegexpStemmer"
      ],
      "metadata": {
        "id": "0fMXKyMDj-N-"
      },
      "execution_count": 24,
      "outputs": []
    },
    {
      "cell_type": "code",
      "source": [
        "regexst = RegexpStemmer('ing$|e$|ed$|s$|en$', min=4)"
      ],
      "metadata": {
        "id": "_3BmeDcukCp_"
      },
      "execution_count": 26,
      "outputs": []
    },
    {
      "cell_type": "code",
      "source": [
        "regexst.stem('eating')"
      ],
      "metadata": {
        "colab": {
          "base_uri": "https://localhost:8080/",
          "height": 35
        },
        "id": "ZbBr6nygkRxL",
        "outputId": "f5584f8a-b9bc-4684-e117-6b46bb35e829"
      },
      "execution_count": 29,
      "outputs": [
        {
          "output_type": "execute_result",
          "data": {
            "text/plain": [
              "'eat'"
            ],
            "application/vnd.google.colaboratory.intrinsic+json": {
              "type": "string"
            }
          },
          "metadata": {},
          "execution_count": 29
        }
      ]
    },
    {
      "cell_type": "markdown",
      "source": [
        "## Snowball Stemmer"
      ],
      "metadata": {
        "id": "mM85uV2vkrLT"
      }
    },
    {
      "cell_type": "code",
      "source": [
        "from nltk.stem import SnowballStemmer"
      ],
      "metadata": {
        "id": "dtTWNnnEkvB1"
      },
      "execution_count": 30,
      "outputs": []
    },
    {
      "cell_type": "code",
      "source": [
        "sbs = SnowballStemmer('english')"
      ],
      "metadata": {
        "id": "sMU-e3rnkyKS"
      },
      "execution_count": 33,
      "outputs": []
    },
    {
      "cell_type": "code",
      "source": [
        "for word in words:\n",
        "  print(word+\" --> \"+ sbs.stem(word))"
      ],
      "metadata": {
        "colab": {
          "base_uri": "https://localhost:8080/"
        },
        "id": "P0QGfackk7-K",
        "outputId": "0e4662af-122c-4296-cad3-f6cefbe6cd02"
      },
      "execution_count": 38,
      "outputs": [
        {
          "output_type": "stream",
          "name": "stdout",
          "text": [
            "eating --> eat\n",
            "eat --> eat\n",
            "eaten --> eaten\n",
            "going --> go\n",
            "gone --> gone\n",
            "programming --> program\n",
            "programs --> program\n",
            "writing --> write\n",
            "writes --> write\n",
            "written --> written\n",
            "history --> histori\n",
            "fairly --> fair\n",
            "sportingly --> sport\n"
          ]
        }
      ]
    },
    {
      "cell_type": "markdown",
      "source": [
        "## Lemmatization"
      ],
      "metadata": {
        "id": "lk0AJ1cjlpjW"
      }
    },
    {
      "cell_type": "code",
      "source": [
        "from nltk.stem import WordNetLemmatizer"
      ],
      "metadata": {
        "id": "gXX67yiqlrAp"
      },
      "execution_count": 39,
      "outputs": []
    },
    {
      "cell_type": "code",
      "source": [
        "l1 = WordNetLemmatizer()"
      ],
      "metadata": {
        "id": "gq1KN_plmKY7"
      },
      "execution_count": 40,
      "outputs": []
    },
    {
      "cell_type": "code",
      "metadata": {
        "colab": {
          "base_uri": "https://localhost:8080/"
        },
        "id": "ddbe29d0",
        "outputId": "f303a174-aa17-45f2-9192-1349968b88e7"
      },
      "source": [
        "import nltk\n",
        "nltk.download('wordnet')"
      ],
      "execution_count": 45,
      "outputs": [
        {
          "output_type": "stream",
          "name": "stderr",
          "text": [
            "[nltk_data] Downloading package wordnet to /root/nltk_data...\n",
            "[nltk_data]   Package wordnet is already up-to-date!\n"
          ]
        },
        {
          "output_type": "execute_result",
          "data": {
            "text/plain": [
              "True"
            ]
          },
          "metadata": {},
          "execution_count": 45
        }
      ]
    },
    {
      "cell_type": "code",
      "source": [
        "l1.lemmatize('goes')"
      ],
      "metadata": {
        "colab": {
          "base_uri": "https://localhost:8080/",
          "height": 35
        },
        "id": "Tm1qWsd6mZnV",
        "outputId": "1f4c88cd-a34d-42c7-b7c7-d613ed594292"
      },
      "execution_count": 46,
      "outputs": [
        {
          "output_type": "execute_result",
          "data": {
            "text/plain": [
              "'go'"
            ],
            "application/vnd.google.colaboratory.intrinsic+json": {
              "type": "string"
            }
          },
          "metadata": {},
          "execution_count": 46
        }
      ]
    },
    {
      "cell_type": "code",
      "source": [
        "for word in words:\n",
        "  print(word+\" --> \"+l1.lemmatize(word))"
      ],
      "metadata": {
        "colab": {
          "base_uri": "https://localhost:8080/"
        },
        "id": "zIQGUuJpmcLc",
        "outputId": "b0f2242d-43a0-4879-818b-d7e380f3c3fc"
      },
      "execution_count": 47,
      "outputs": [
        {
          "output_type": "stream",
          "name": "stdout",
          "text": [
            "eating --> eating\n",
            "eat --> eat\n",
            "eaten --> eaten\n",
            "going --> going\n",
            "gone --> gone\n",
            "programming --> programming\n",
            "programs --> program\n",
            "writing --> writing\n",
            "writes --> writes\n",
            "written --> written\n",
            "history --> history\n",
            "fairly --> fairly\n",
            "sportingly --> sportingly\n"
          ]
        }
      ]
    },
    {
      "cell_type": "code",
      "source": [
        "for word in words:\n",
        "  print(word+\" --> \"+l1.lemmatize(word, pos='v'))"
      ],
      "metadata": {
        "colab": {
          "base_uri": "https://localhost:8080/"
        },
        "id": "KlkltFBsnBaT",
        "outputId": "cb4a22f5-a517-4883-cd3c-efd4c01583d1"
      },
      "execution_count": 48,
      "outputs": [
        {
          "output_type": "stream",
          "name": "stdout",
          "text": [
            "eating --> eat\n",
            "eat --> eat\n",
            "eaten --> eat\n",
            "going --> go\n",
            "gone --> go\n",
            "programming --> program\n",
            "programs --> program\n",
            "writing --> write\n",
            "writes --> write\n",
            "written --> write\n",
            "history --> history\n",
            "fairly --> fairly\n",
            "sportingly --> sportingly\n"
          ]
        }
      ]
    },
    {
      "cell_type": "markdown",
      "source": [
        "# Stopwords"
      ],
      "metadata": {
        "id": "mWI2xKSsx88p"
      }
    },
    {
      "cell_type": "code",
      "source": [
        "kalam_speech = \"\"\"\n",
        "I have three visions for India. In 3000 years of our history people from all over the world have come and invaded us, captured our lands, conquered our minds. From Alexander onwards the Greeks, the Turks, the Moguls, the Portuguese, the British, the French, the Dutch, all of them came and looted us, took over what was ours. Yet we have not done this to any other nation. We have not conquered anyone. We have not grabbed their land, their culture and their history and tried to enforce our way of life on them. Why? Because we respect the freedom of others. That is why my FIRST VISION is that of FREEDOM. I believe that India got its first vision of this in 1857, when we started the war of Independence. It is this freedom that we must protect and nurture and build on. If we are not free, no one will respect us.\n",
        "\n",
        "We have 10 percent growth rate in most areas. Our poverty levels are falling. Our achievements are being globally recognised today. Yet we lack the self-confidence to see ourselves as a developed nation, self-reliant and self-assured. Isn’t this incorrect? MY SECOND VISION for India is DEVELOPMENT. For fifty years we have been a developing nation. It is time we see ourselves as a developed nation. We are among top five nations in the world in terms of GDP.\n",
        "\n",
        "I have a THIRD VISION. India must stand up to the world. Because I believe that unless India stands up to the world, no one will respect us. Only strength respects strength. We must be strong not only as a military power but also as an economic power. Both must go hand-in-hand. My good fortune was to have worked with three great minds. Dr.Vikram Sarabhai, of the Dept. of Space, Professor Satish Dhawan, who succeeded him and Dr. Brahm Prakash, father of nuclear material. I was lucky to have worked with all three of them closely and consider this the great opportunity of my life.\n",
        "\n",
        "I was in Hyderabad giving this lecture, when a 14 year-old girl asked me for my autograph. I asked her what her goal in life is. She replied: I want to live in a developed India. For her, you and I will have to build this developed India. You must proclaim India is not an underdeveloped nation; it is a highly developed nation.\n",
        "\n",
        "You say that our government is inefficient. You say that our laws are too old. You say that the municipality does not pick up the garbage. You say that the phones don’t work, the railways are a joke, the airline is the worst in the world, and mails never reach their destination. You say that our country has been fed to the dogs and is the absolute pits. You say, say and say. What do you do about it?\n",
        "\n",
        "Dear Indians, I am echoing J.F.Kennedy’s words to his fellow Americans to relate to Indians ……. “ASK WHAT WE CAN DO FOR INDIA AND DO WHAT HAS TO BE DONE TO MAKE INDIA WHAT AMERICA AND OTHER WESTERN COUNTRIES ARE TODAY.”\n",
        "\"\"\"\n"
      ],
      "metadata": {
        "id": "Q6ZKK3pvydKX"
      },
      "execution_count": 78,
      "outputs": []
    },
    {
      "cell_type": "code",
      "source": [
        "from nltk.corpus import stopwords"
      ],
      "metadata": {
        "id": "nieoSeU6ylT8"
      },
      "execution_count": 79,
      "outputs": []
    },
    {
      "cell_type": "code",
      "source": [
        "import nltk\n",
        "nltk.download('stopwords')"
      ],
      "metadata": {
        "colab": {
          "base_uri": "https://localhost:8080/"
        },
        "id": "d_3h3hZxyuOZ",
        "outputId": "5a89b128-a487-4482-e495-a6144b1c4730"
      },
      "execution_count": 74,
      "outputs": [
        {
          "output_type": "stream",
          "name": "stderr",
          "text": [
            "[nltk_data] Downloading package stopwords to /root/nltk_data...\n",
            "[nltk_data]   Package stopwords is already up-to-date!\n"
          ]
        },
        {
          "output_type": "execute_result",
          "data": {
            "text/plain": [
              "True"
            ]
          },
          "metadata": {},
          "execution_count": 74
        }
      ]
    },
    {
      "cell_type": "code",
      "source": [
        "len(stopwords.words('english'))"
      ],
      "metadata": {
        "colab": {
          "base_uri": "https://localhost:8080/"
        },
        "id": "OB8XF_l44uIp",
        "outputId": "11f7a925-519c-4b7a-c26b-16c47db29e34"
      },
      "execution_count": 80,
      "outputs": [
        {
          "output_type": "execute_result",
          "data": {
            "text/plain": [
              "198"
            ]
          },
          "metadata": {},
          "execution_count": 80
        }
      ]
    },
    {
      "cell_type": "code",
      "source": [
        "sentences = nltk.sent_tokenize(kalam_speech)"
      ],
      "metadata": {
        "id": "ua1RvXHn44Gr"
      },
      "execution_count": 81,
      "outputs": []
    },
    {
      "cell_type": "code",
      "source": [
        "## Apply stopwords, filter and stem"
      ],
      "metadata": {
        "id": "GZI7HRPw5Jfc"
      },
      "execution_count": null,
      "outputs": []
    },
    {
      "cell_type": "code",
      "source": [
        "new_sentences = []"
      ],
      "metadata": {
        "id": "TqvDOV-S51MJ"
      },
      "execution_count": 77,
      "outputs": []
    },
    {
      "cell_type": "code",
      "source": [
        "for i in range(len(sentences)):\n",
        "  words = nltk.word_tokenize(sentences[i])\n",
        "  words = [ps.stem(word) for word in words if word not in set(stopwords.words('english'))]\n",
        "  sentences[i] = ' '.join(words)"
      ],
      "metadata": {
        "id": "mHlPNwmS5Np4"
      },
      "execution_count": 66,
      "outputs": []
    },
    {
      "cell_type": "code",
      "source": [
        "words"
      ],
      "metadata": {
        "colab": {
          "base_uri": "https://localhost:8080/"
        },
        "id": "sAqe1gfP5cnU",
        "outputId": "96f0048a-547e-49ff-8e53-609234147114"
      },
      "execution_count": 67,
      "outputs": [
        {
          "output_type": "execute_result",
          "data": {
            "text/plain": [
              "['“',\n",
              " 'ask',\n",
              " 'what',\n",
              " 'we',\n",
              " 'can',\n",
              " 'do',\n",
              " 'for',\n",
              " 'india',\n",
              " 'and',\n",
              " 'do',\n",
              " 'what',\n",
              " 'ha',\n",
              " 'to',\n",
              " 'be',\n",
              " 'done',\n",
              " 'to',\n",
              " 'make',\n",
              " 'india',\n",
              " 'what',\n",
              " 'america',\n",
              " 'and',\n",
              " 'other',\n",
              " 'western',\n",
              " 'countri',\n",
              " 'are',\n",
              " 'today',\n",
              " '.',\n",
              " '”']"
            ]
          },
          "metadata": {},
          "execution_count": 67
        }
      ]
    },
    {
      "cell_type": "code",
      "source": [
        "sentences"
      ],
      "metadata": {
        "colab": {
          "base_uri": "https://localhost:8080/"
        },
        "id": "ttc5XgWu53y5",
        "outputId": "97db26c5-0f84-4600-f4fb-6eec8d4ae811"
      },
      "execution_count": 69,
      "outputs": [
        {
          "output_type": "execute_result",
          "data": {
            "text/plain": [
              "['i three vision india .',\n",
              " 'in 3000 year histori peopl world come invad us , captur land , conquer mind .',\n",
              " 'from alexand onward greek , turk , mogul , portugues , british , french , dutch , came loot us , took .',\n",
              " 'yet done nation .',\n",
              " 'we conquer anyon .',\n",
              " 'we grab land , cultur histori tri enforc way life .',\n",
              " 'whi ?',\n",
              " 'becaus respect freedom other .',\n",
              " 'that first vision freedom .',\n",
              " 'i believ india got first vision 1857 , start war independ .',\n",
              " 'it freedom must protect nurtur build .',\n",
              " 'if free , one respect us .',\n",
              " 'we 10 percent growth rate area .',\n",
              " 'our poverti level fall .',\n",
              " 'our achiev global recognis today .',\n",
              " 'yet lack self-confid see develop nation , self-reli self-assur .',\n",
              " 'isn ’ incorrect ?',\n",
              " 'my second vision india develop .',\n",
              " 'for fifti year develop nation .',\n",
              " 'it time see develop nation .',\n",
              " 'we among top five nation world term gdp .',\n",
              " 'i third vision .',\n",
              " 'india must stand world .',\n",
              " 'becaus i believ unless india stand world , one respect us .',\n",
              " 'onli strength respect strength .',\n",
              " 'we must strong militari power also econom power .',\n",
              " 'both must go hand-in-hand .',\n",
              " 'my good fortun work three great mind .',\n",
              " 'dr.vikram sarabhai , dept .',\n",
              " 'space , professor satish dhawan , succeed dr. brahm prakash , father nuclear materi .',\n",
              " 'i lucki work three close consid great opportun life .',\n",
              " 'i hyderabad give lectur , 14 year-old girl ask autograph .',\n",
              " 'i ask goal life .',\n",
              " 'she repli : i want live develop india .',\n",
              " 'for , i build develop india .',\n",
              " 'you must proclaim india underdevelop nation ; highli develop nation .',\n",
              " 'you say govern ineffici .',\n",
              " 'you say law old .',\n",
              " 'you say municip pick garbag .',\n",
              " 'you say phone ’ work , railway joke , airlin worst world , mail never reach destin .',\n",
              " 'you say countri fed dog absolut pit .',\n",
              " 'you say , say say .',\n",
              " 'what ?',\n",
              " 'dear indian , i echo j.f.kennedi ’ word fellow american relat indian …… .',\n",
              " '“ ask what we can do for india and do what ha to be done to make india what america and other western countri are today . ”']"
            ]
          },
          "metadata": {},
          "execution_count": 69
        }
      ]
    },
    {
      "cell_type": "code",
      "source": [
        "new_sentences"
      ],
      "metadata": {
        "colab": {
          "base_uri": "https://localhost:8080/"
        },
        "id": "lQ0iRaRA6t0J",
        "outputId": "caffd114-e55e-4d1a-e783-28188c5bc759"
      },
      "execution_count": 70,
      "outputs": [
        {
          "output_type": "execute_result",
          "data": {
            "text/plain": [
              "['i three vision india .',\n",
              " 'in 3000 year histori peopl world come invad us , captur land , conquer mind .',\n",
              " 'from alexand onward greek , turk , mogul , portugues , british , french , dutch , came loot us , took .',\n",
              " 'yet done nation .',\n",
              " 'we conquer anyon .',\n",
              " 'we grab land , cultur histori tri enforc way life .',\n",
              " 'whi ?',\n",
              " 'becaus respect freedom other .',\n",
              " 'that first vision freedom .',\n",
              " 'i believ india got first vision 1857 , start war independ .',\n",
              " 'it freedom must protect nurtur build .',\n",
              " 'if free , one respect us .',\n",
              " 'we 10 percent growth rate area .',\n",
              " 'our poverti level fall .',\n",
              " 'our achiev global recognis today .',\n",
              " 'yet lack self-confid see develop nation , self-reli self-assur .',\n",
              " 'isn ’ incorrect ?',\n",
              " 'my second vision india develop .',\n",
              " 'for fifti year develop nation .',\n",
              " 'it time see develop nation .',\n",
              " 'we among top five nation world term gdp .',\n",
              " 'i third vision .',\n",
              " 'india must stand world .',\n",
              " 'becaus i believ unless india stand world , one respect us .',\n",
              " 'onli strength respect strength .',\n",
              " 'we must strong militari power also econom power .',\n",
              " 'both must go hand-in-hand .',\n",
              " 'my good fortun work three great mind .',\n",
              " 'dr.vikram sarabhai , dept .',\n",
              " 'space , professor satish dhawan , succeed dr. brahm prakash , father nuclear materi .',\n",
              " 'i lucki work three close consid great opportun life .',\n",
              " 'i hyderabad give lectur , 14 year-old girl ask autograph .',\n",
              " 'i ask goal life .',\n",
              " 'she repli : i want live develop india .',\n",
              " 'for , i build develop india .',\n",
              " 'you must proclaim india underdevelop nation ; highli develop nation .',\n",
              " 'you say govern ineffici .',\n",
              " 'you say law old .',\n",
              " 'you say municip pick garbag .',\n",
              " 'you say phone ’ work , railway joke , airlin worst world , mail never reach destin .',\n",
              " 'you say countri fed dog absolut pit .',\n",
              " 'you say , say say .',\n",
              " 'what ?',\n",
              " 'dear indian , i echo j.f.kennedi ’ word fellow american relat indian …… .',\n",
              " '“ ask what we can do for india and do what ha to be done to make india what america and other western countri are today . ”',\n",
              " 'i three vision india .',\n",
              " 'in 3000 year histori peopl world come invad us , captur land , conquer mind .',\n",
              " 'from alexand onward greek , turk , mogul , portugues , british , french , dutch , came loot us , took .',\n",
              " 'yet done nation .',\n",
              " 'we conquer anyon .',\n",
              " 'we grab land , cultur histori tri enforc way life .',\n",
              " 'whi ?',\n",
              " 'becaus respect freedom other .',\n",
              " 'that first vision freedom .',\n",
              " 'i believ india got first vision 1857 , start war independ .',\n",
              " 'it freedom must protect nurtur build .',\n",
              " 'if free , one respect us .',\n",
              " 'we 10 percent growth rate area .',\n",
              " 'our poverti level fall .',\n",
              " 'our achiev global recognis today .',\n",
              " 'yet lack self-confid see develop nation , self-reli self-assur .',\n",
              " 'isn ’ incorrect ?',\n",
              " 'my second vision india develop .',\n",
              " 'for fifti year develop nation .',\n",
              " 'it time see develop nation .',\n",
              " 'we among top five nation world term gdp .',\n",
              " 'i third vision .',\n",
              " 'india must stand world .',\n",
              " 'becaus i believ unless india stand world , one respect us .',\n",
              " 'onli strength respect strength .',\n",
              " 'we must strong militari power also econom power .',\n",
              " 'both must go hand-in-hand .',\n",
              " 'my good fortun work three great mind .',\n",
              " 'dr.vikram sarabhai , dept .',\n",
              " 'space , professor satish dhawan , succeed dr. brahm prakash , father nuclear materi .',\n",
              " 'i lucki work three close consid great opportun life .',\n",
              " 'i hyderabad give lectur , 14 year-old girl ask autograph .',\n",
              " 'i ask goal life .',\n",
              " 'she repli : i want live develop india .',\n",
              " 'for , i build develop india .',\n",
              " 'you must proclaim india underdevelop nation ; highli develop nation .',\n",
              " 'you say govern ineffici .',\n",
              " 'you say law old .',\n",
              " 'you say municip pick garbag .',\n",
              " 'you say phone ’ work , railway joke , airlin worst world , mail never reach destin .',\n",
              " 'you say countri fed dog absolut pit .',\n",
              " 'you say , say say .',\n",
              " 'what ?',\n",
              " 'dear indian , i echo j.f.kennedi ’ word fellow american relat indian …… .',\n",
              " '“ ask what we can do for india and do what ha to be done to make india what america and other western countri are today . ”']"
            ]
          },
          "metadata": {},
          "execution_count": 70
        }
      ]
    },
    {
      "cell_type": "markdown",
      "source": [
        "# Now use Lemmatizer"
      ],
      "metadata": {
        "id": "shOJCnht64hM"
      }
    },
    {
      "cell_type": "code",
      "source": [
        "l2 = WordNetLemmatizer()"
      ],
      "metadata": {
        "id": "YZiOWF0G66in"
      },
      "execution_count": 82,
      "outputs": []
    },
    {
      "cell_type": "code",
      "source": [
        "for i in range(len(sentences)):\n",
        "  words = nltk.word_tokenize(sentences[i])\n",
        "  words = [l2.lemmatize(word) for word in words if word not in set(stopwords.words('english'))]\n",
        "  sentences[i] = ' '.join(words)"
      ],
      "metadata": {
        "id": "9gv1cyEh69PS"
      },
      "execution_count": 83,
      "outputs": []
    },
    {
      "cell_type": "code",
      "source": [
        "sentences"
      ],
      "metadata": {
        "colab": {
          "base_uri": "https://localhost:8080/"
        },
        "id": "OnLsDUOI7QOg",
        "outputId": "e9fe9660-6c30-4ae1-84d8-03530b60a434"
      },
      "execution_count": 84,
      "outputs": [
        {
          "output_type": "execute_result",
          "data": {
            "text/plain": [
              "['I three vision India .',\n",
              " 'In 3000 year history people world come invaded u , captured land , conquered mind .',\n",
              " 'From Alexander onwards Greeks , Turks , Moguls , Portuguese , British , French , Dutch , came looted u , took .',\n",
              " 'Yet done nation .',\n",
              " 'We conquered anyone .',\n",
              " 'We grabbed land , culture history tried enforce way life .',\n",
              " 'Why ?',\n",
              " 'Because respect freedom others .',\n",
              " 'That FIRST VISION FREEDOM .',\n",
              " 'I believe India got first vision 1857 , started war Independence .',\n",
              " 'It freedom must protect nurture build .',\n",
              " 'If free , one respect u .',\n",
              " 'We 10 percent growth rate area .',\n",
              " 'Our poverty level falling .',\n",
              " 'Our achievement globally recognised today .',\n",
              " 'Yet lack self-confidence see developed nation , self-reliant self-assured .',\n",
              " 'Isn ’ incorrect ?',\n",
              " 'MY SECOND VISION India DEVELOPMENT .',\n",
              " 'For fifty year developing nation .',\n",
              " 'It time see developed nation .',\n",
              " 'We among top five nation world term GDP .',\n",
              " 'I THIRD VISION .',\n",
              " 'India must stand world .',\n",
              " 'Because I believe unless India stand world , one respect u .',\n",
              " 'Only strength respect strength .',\n",
              " 'We must strong military power also economic power .',\n",
              " 'Both must go hand-in-hand .',\n",
              " 'My good fortune worked three great mind .',\n",
              " 'Dr.Vikram Sarabhai , Dept .',\n",
              " 'Space , Professor Satish Dhawan , succeeded Dr. Brahm Prakash , father nuclear material .',\n",
              " 'I lucky worked three closely consider great opportunity life .',\n",
              " 'I Hyderabad giving lecture , 14 year-old girl asked autograph .',\n",
              " 'I asked goal life .',\n",
              " 'She replied : I want live developed India .',\n",
              " 'For , I build developed India .',\n",
              " 'You must proclaim India underdeveloped nation ; highly developed nation .',\n",
              " 'You say government inefficient .',\n",
              " 'You say law old .',\n",
              " 'You say municipality pick garbage .',\n",
              " 'You say phone ’ work , railway joke , airline worst world , mail never reach destination .',\n",
              " 'You say country fed dog absolute pit .',\n",
              " 'You say , say say .',\n",
              " 'What ?',\n",
              " 'Dear Indians , I echoing J.F.Kennedy ’ word fellow Americans relate Indians …… .',\n",
              " '“ ASK WHAT WE CAN DO FOR INDIA AND DO WHAT HAS TO BE DONE TO MAKE INDIA WHAT AMERICA AND OTHER WESTERN COUNTRIES ARE TODAY . ”']"
            ]
          },
          "metadata": {},
          "execution_count": 84
        }
      ]
    }
  ]
}